{
  "nbformat": 4,
  "nbformat_minor": 0,
  "metadata": {
    "colab": {
      "name": "RegularExpression.ipynb",
      "provenance": [],
      "collapsed_sections": [],
      "authorship_tag": "ABX9TyPU8Ep1JPZlYeff2GslXwvO",
      "include_colab_link": true
    },
    "kernelspec": {
      "name": "python3",
      "display_name": "Python 3"
    }
  },
  "cells": [
    {
      "cell_type": "markdown",
      "metadata": {
        "id": "view-in-github",
        "colab_type": "text"
      },
      "source": [
        "<a href=\"https://colab.research.google.com/github/mayur1101/mayur-vitadbda/blob/python/RegularExpression.ipynb\" target=\"_parent\"><img src=\"https://colab.research.google.com/assets/colab-badge.svg\" alt=\"Open In Colab\"/></a>"
      ]
    },
    {
      "cell_type": "markdown",
      "metadata": {
        "id": "RJeZARuMmvHL",
        "colab_type": "text"
      },
      "source": [
        "\n",
        "\n",
        "A regex is a sequence of characters that forms a search pattern.regex is used to check if a string contains the specific search pattern."
      ]
    },
    {
      "cell_type": "markdown",
      "metadata": {
        "id": "UxbYAmglnXqc",
        "colab_type": "text"
      },
      "source": [
        "#1.findall()"
      ]
    },
    {
      "cell_type": "code",
      "metadata": {
        "id": "EbxCaNLRnZZH",
        "colab_type": "code",
        "colab": {
          "base_uri": "https://localhost:8080/",
          "height": 34
        },
        "outputId": "ee2387ee-7314-4dad-be73-de0df91cb5b9"
      },
      "source": [
        "import re\n",
        "txt=\"the rain in spain\"\n",
        "x=re.findall(\"ai\",txt)\n",
        "print(x)"
      ],
      "execution_count": null,
      "outputs": [
        {
          "output_type": "stream",
          "text": [
            "['ai', 'ai']\n"
          ],
          "name": "stdout"
        }
      ]
    },
    {
      "cell_type": "code",
      "metadata": {
        "id": "JUzgPp-7nm5f",
        "colab_type": "code",
        "colab": {
          "base_uri": "https://localhost:8080/",
          "height": 34
        },
        "outputId": "99c1449a-091e-459d-dc21-4d556948aefd"
      },
      "source": [
        "txt=\"hello mayur your contact is 7559217397\"\n",
        "x=re.findall(\"[0-9]\",txt)\n",
        "print(x)  "
      ],
      "execution_count": null,
      "outputs": [
        {
          "output_type": "stream",
          "text": [
            "['7', '5', '5', '9', '2', '1', '7', '3', '9', '7']\n"
          ],
          "name": "stdout"
        }
      ]
    },
    {
      "cell_type": "code",
      "metadata": {
        "id": "qO3KMF2NoGfb",
        "colab_type": "code",
        "colab": {
          "base_uri": "https://localhost:8080/",
          "height": 34
        },
        "outputId": "513064e2-ac4e-4c2c-8a0b-13c9a59235cc"
      },
      "source": [
        "txt=\"hello mayur your contact is 7559217397\"\n",
        "x=re.findall(\"[a-z]\",txt)\n",
        "print(x)"
      ],
      "execution_count": null,
      "outputs": [
        {
          "output_type": "stream",
          "text": [
            "['h', 'e', 'l', 'l', 'o', 'm', 'a', 'y', 'u', 'r', 'y', 'o', 'u', 'r', 'c', 'o', 'n', 't', 'a', 'c', 't', 'i', 's']\n"
          ],
          "name": "stdout"
        }
      ]
    },
    {
      "cell_type": "code",
      "metadata": {
        "id": "8QyarMR-oe7y",
        "colab_type": "code",
        "colab": {
          "base_uri": "https://localhost:8080/",
          "height": 34
        },
        "outputId": "35a4a115-0d0c-4d42-8e4a-2f8b2920c701"
      },
      "source": [
        "txt=\"hello mayur your contact is 7559217397\"\n",
        "x=re.findall(\"^[0-9]\",txt)\n",
        "print(x)"
      ],
      "execution_count": null,
      "outputs": [
        {
          "output_type": "stream",
          "text": [
            "[]\n"
          ],
          "name": "stdout"
        }
      ]
    },
    {
      "cell_type": "code",
      "metadata": {
        "id": "yJ1LuJAhoof3",
        "colab_type": "code",
        "colab": {
          "base_uri": "https://localhost:8080/",
          "height": 34
        },
        "outputId": "16a77b42-620b-4a31-b2e9-d9f468329d1b"
      },
      "source": [
        "txt=\"hello mayur your contact is 7559217397\"\n",
        "x=re.findall(\"^[a-z]\",txt)\n",
        "print(x)"
      ],
      "execution_count": null,
      "outputs": [
        {
          "output_type": "stream",
          "text": [
            "['h']\n"
          ],
          "name": "stdout"
        }
      ]
    },
    {
      "cell_type": "code",
      "metadata": {
        "id": "GHBej34bpQDd",
        "colab_type": "code",
        "colab": {
          "base_uri": "https://localhost:8080/",
          "height": 34
        },
        "outputId": "a5ba0e0f-19ff-490d-e59f-131ae7b7be69"
      },
      "source": [
        "txt=\"hello mayur your contact is 7559217397\"\n",
        "x=re.findall(\"[7]$\",txt)\n",
        "print(x)"
      ],
      "execution_count": null,
      "outputs": [
        {
          "output_type": "stream",
          "text": [
            "['7']\n"
          ],
          "name": "stdout"
        }
      ]
    },
    {
      "cell_type": "code",
      "metadata": {
        "id": "JtF_MWqTpg9D",
        "colab_type": "code",
        "colab": {
          "base_uri": "https://localhost:8080/",
          "height": 34
        },
        "outputId": "8398cb57-194f-4afc-807f-63fda8bd7414"
      },
      "source": [
        "txt=\"hello mayur your contact is 7559217397\"\n",
        "x=re.findall(\"[p,l,a,7]\",txt)\n",
        "print(x)\n"
      ],
      "execution_count": null,
      "outputs": [
        {
          "output_type": "stream",
          "text": [
            "['l', 'l', 'a', 'a', '7', '7', '7']\n"
          ],
          "name": "stdout"
        }
      ]
    },
    {
      "cell_type": "code",
      "metadata": {
        "id": "llwwYrkAqmQq",
        "colab_type": "code",
        "colab": {
          "base_uri": "https://localhost:8080/",
          "height": 54
        },
        "outputId": "e6ed2dcd-c39c-4471-f270-ef643f74622c"
      },
      "source": [
        "txt=\"hello mayur your contact is 7559217397 papa apa\"\n",
        "x=re.findall(\"[p,a]*\",txt)\n",
        "print(x) "
      ],
      "execution_count": null,
      "outputs": [
        {
          "output_type": "stream",
          "text": [
            "['', '', '', '', '', '', '', 'a', '', '', '', '', '', '', '', '', '', '', '', '', '', 'a', '', '', '', '', '', '', '', '', '', '', '', '', '', '', '', '', '', 'papa', '', 'apa', '']\n"
          ],
          "name": "stdout"
        }
      ]
    },
    {
      "cell_type": "code",
      "metadata": {
        "id": "W9efJ3xnq8uJ",
        "colab_type": "code",
        "colab": {
          "base_uri": "https://localhost:8080/",
          "height": 34
        },
        "outputId": "8702a193-9058-4d9d-8f6b-b50ab8152dc3"
      },
      "source": [
        "txt=\"hello mayur your contact is 7559217397 34354545\"\n",
        "x=re.findall(\"[0-9]{8}\",txt)\n",
        "print(x)\n"
      ],
      "execution_count": null,
      "outputs": [
        {
          "output_type": "stream",
          "text": [
            "['75592173', '34354545']\n"
          ],
          "name": "stdout"
        }
      ]
    },
    {
      "cell_type": "code",
      "metadata": {
        "id": "EpMSOjbPqw2E",
        "colab_type": "code",
        "colab": {
          "base_uri": "https://localhost:8080/",
          "height": 34
        },
        "outputId": "9ca3afb7-bcd5-49d7-e61d-7bcfeeae74cb"
      },
      "source": [
        "txt=\"hello mayur your contact is 7559217397\"\n",
        "x=re.findall(\"[0-9]{3}\",txt)\n",
        "print(x)\n"
      ],
      "execution_count": null,
      "outputs": [
        {
          "output_type": "stream",
          "text": [
            "['755', '921', '739']\n"
          ],
          "name": "stdout"
        }
      ]
    },
    {
      "cell_type": "code",
      "metadata": {
        "id": "xkp6HMJdrof4",
        "colab_type": "code",
        "colab": {
          "base_uri": "https://localhost:8080/",
          "height": 34
        },
        "outputId": "ffcb2005-f4c5-4e8c-f1eb-023265f8c030"
      },
      "source": [
        "txt=\"hello mayur your contact is 7559217397\"\n",
        "x=re.findall(\"[a-z]{3}\",txt)\n",
        "print(x)"
      ],
      "execution_count": null,
      "outputs": [
        {
          "output_type": "stream",
          "text": [
            "['hel', 'may', 'you', 'con', 'tac']\n"
          ],
          "name": "stdout"
        }
      ]
    },
    {
      "cell_type": "code",
      "metadata": {
        "id": "se7j-OXdsBmR",
        "colab_type": "code",
        "colab": {
          "base_uri": "https://localhost:8080/",
          "height": 34
        },
        "outputId": "0b7701fe-ef14-4d55-95e7-fc589529a304"
      },
      "source": [
        "txt=\"area codes are +91 +223 +111 +37 +56 numbers are 121 123 32 445 45 6 46 45\"\n",
        "x=re.findall(\"\\+\\d[0-9]\",txt)\n",
        "print(x)  #['+91', '+22', '+11', '+37', '+56']\n"
      ],
      "execution_count": null,
      "outputs": [
        {
          "output_type": "stream",
          "text": [
            "['+91', '+22', '+11', '+37', '+56']\n"
          ],
          "name": "stdout"
        }
      ]
    },
    {
      "cell_type": "code",
      "metadata": {
        "id": "C1tRlTTwsLdN",
        "colab_type": "code",
        "colab": {
          "base_uri": "https://localhost:8080/",
          "height": 34
        },
        "outputId": "aba17e2a-93da-4b7a-dad5-8ef6d42d7582"
      },
      "source": [
        "txt=\"area codes are +91 +223 +111 +37 +56 numbers are 121 123 32 445 45 6 46 45\"\n",
        "x=re.findall(\"\\+\\d{3}\",txt)\n",
        "print(x)"
      ],
      "execution_count": null,
      "outputs": [
        {
          "output_type": "stream",
          "text": [
            "['+223', '+111']\n"
          ],
          "name": "stdout"
        }
      ]
    },
    {
      "cell_type": "code",
      "metadata": {
        "id": "Skeb02lUsS2F",
        "colab_type": "code",
        "colab": {
          "base_uri": "https://localhost:8080/",
          "height": 34
        },
        "outputId": "ef8a647d-6d62-4857-b241-01764056bdd4"
      },
      "source": [
        "txt=\"area codes are +91 +223 +111 +37 +56 numbers are 121 123 32 445 45 6 46 45\"\n",
        "x=re.findall(\"\\d*[0-9]\",txt)\n",
        "print(x) "
      ],
      "execution_count": null,
      "outputs": [
        {
          "output_type": "stream",
          "text": [
            "['91', '223', '111', '37', '56', '121', '123', '32', '445', '45', '6', '46', '45']\n"
          ],
          "name": "stdout"
        }
      ]
    },
    {
      "cell_type": "markdown",
      "metadata": {
        "id": "ONFH1VfRs-jw",
        "colab_type": "text"
      },
      "source": [
        "#2.sub()"
      ]
    },
    {
      "cell_type": "code",
      "metadata": {
        "id": "Gw5s3eUrtCaw",
        "colab_type": "code",
        "colab": {
          "base_uri": "https://localhost:8080/",
          "height": 34
        },
        "outputId": "9b8a30cb-fc14-431b-e40a-9306288c7c60"
      },
      "source": [
        "txt=\"hello mayur your contact is 7559217397\"\n",
        "x=re.sub(\"[a-z]{4}\",\"xxxx\",txt)\n",
        "print(x)"
      ],
      "execution_count": null,
      "outputs": [
        {
          "output_type": "stream",
          "text": [
            "xxxxo xxxxr xxxx xxxxact is 7559217397\n"
          ],
          "name": "stdout"
        }
      ]
    },
    {
      "cell_type": "code",
      "metadata": {
        "id": "BlfQIGg1tYVE",
        "colab_type": "code",
        "colab": {
          "base_uri": "https://localhost:8080/",
          "height": 34
        },
        "outputId": "017a0583-72c8-40a7-c225-6fcd027697fa"
      },
      "source": [
        "txt=\"hello mayur your contact is 7559217397 hello\"\n",
        "x=re.sub(\"[hello]{5}\",\"hey\",txt)\n",
        "print(x)\n"
      ],
      "execution_count": null,
      "outputs": [
        {
          "output_type": "stream",
          "text": [
            "hey mayur your contact is 7559217397 hey\n"
          ],
          "name": "stdout"
        }
      ]
    },
    {
      "cell_type": "code",
      "metadata": {
        "id": "dyVKJGeotuAh",
        "colab_type": "code",
        "colab": {
          "base_uri": "https://localhost:8080/",
          "height": 34
        },
        "outputId": "9527a8a4-9d8a-4122-f41e-270182e51456"
      },
      "source": [
        "txt=\"hello mayur your contact is 7559217397\"\n",
        "x=re.sub(\"\\s\",\"999\",txt)                #substitute at white sapces in string by 999(\"\\s\"(small s)is used for white spaces)\n",
        "print(x)\n"
      ],
      "execution_count": null,
      "outputs": [
        {
          "output_type": "stream",
          "text": [
            "hello999mayur999your999contact999is9997559217397\n"
          ],
          "name": "stdout"
        }
      ]
    },
    {
      "cell_type": "code",
      "metadata": {
        "id": "XfTvNuzyt8Nq",
        "colab_type": "code",
        "colab": {
          "base_uri": "https://localhost:8080/",
          "height": 34
        },
        "outputId": "c1f5c0ac-e243-4ef5-f663-94271a93d919"
      },
      "source": [
        "txt=\"hello mayur your contact is 7559217397\"\n",
        "x=re.sub(\"\\s\",\"999\",txt,2)                #substitute at white sapces in string by 999 only at 2 white spaces\n",
        "print(x)\n"
      ],
      "execution_count": null,
      "outputs": [
        {
          "output_type": "stream",
          "text": [
            "hello999mayur999your contact is 7559217397\n"
          ],
          "name": "stdout"
        }
      ]
    },
    {
      "cell_type": "code",
      "metadata": {
        "id": "aScVFTTRuHga",
        "colab_type": "code",
        "colab": {
          "base_uri": "https://localhost:8080/",
          "height": 34
        },
        "outputId": "3faf17cc-f87b-4f2c-d538-0bc6de5e0dfa"
      },
      "source": [
        "txt=\"hello mayur your contact is 7559217397\"\n",
        "x=re.sub(\"\\d\",\"@\",txt) #substitute the digits only by @(bcz use \\d)\n",
        "print(x)\n"
      ],
      "execution_count": null,
      "outputs": [
        {
          "output_type": "stream",
          "text": [
            "hello mayur your contact is @@@@@@@@@@\n"
          ],
          "name": "stdout"
        }
      ]
    },
    {
      "cell_type": "code",
      "metadata": {
        "id": "Pauyw4kIucre",
        "colab_type": "code",
        "colab": {
          "base_uri": "https://localhost:8080/",
          "height": 34
        },
        "outputId": "c5c91e96-7c03-4406-f058-3082e1309151"
      },
      "source": [
        "txt=\"hello mayur your contact is 7559217397\"\n",
        "x=re.sub(\"\\D\",\"@\",txt)\n",
        "print(x)"
      ],
      "execution_count": null,
      "outputs": [
        {
          "output_type": "stream",
          "text": [
            "@@@@@@@@@@@@@@@@@@@@@@@@@@@@7559217397\n"
          ],
          "name": "stdout"
        }
      ]
    },
    {
      "cell_type": "code",
      "metadata": {
        "id": "WCXLzUx1vMxY",
        "colab_type": "code",
        "colab": {
          "base_uri": "https://localhost:8080/",
          "height": 34
        },
        "outputId": "b2a38bee-788b-4e13-af13-822541f35837"
      },
      "source": [
        "txt=\"hello mayur your contact is 7559217397\"\n",
        "x=re.sub(\"\\S\",\"*\",txt) #\\S(capital S is used to substitute all the char in string not white spaces)\n",
        "print(x)"
      ],
      "execution_count": null,
      "outputs": [
        {
          "output_type": "stream",
          "text": [
            "***** ***** **** ******* ** **********\n"
          ],
          "name": "stdout"
        }
      ]
    },
    {
      "cell_type": "markdown",
      "metadata": {
        "id": "SG9cemg4CJ7H",
        "colab_type": "text"
      },
      "source": [
        "#3.SPLIT()"
      ]
    },
    {
      "cell_type": "code",
      "metadata": {
        "id": "pj3rMP-fCM6a",
        "colab_type": "code",
        "colab": {
          "base_uri": "https://localhost:8080/",
          "height": 34
        },
        "outputId": "ef313266-fe13-42c2-d2e1-6553a0f12c30"
      },
      "source": [
        "import re\n",
        "txt=\"hello mayur your contact is 7559217397\"\n",
        "x=re.split(\" \",txt)\n",
        "print(x)  "
      ],
      "execution_count": null,
      "outputs": [
        {
          "output_type": "stream",
          "text": [
            "['hello', 'mayur', 'your', 'contact', 'is', '7559217397']\n"
          ],
          "name": "stdout"
        }
      ]
    },
    {
      "cell_type": "code",
      "metadata": {
        "id": "Ek2L80jVCbQo",
        "colab_type": "code",
        "colab": {
          "base_uri": "https://localhost:8080/",
          "height": 34
        },
        "outputId": "48191702-9b76-468c-f45f-1e1436a85d79"
      },
      "source": [
        "txt=\"hello mayur your contact is 7559217397\"\n",
        "x=re.split(\"o\",txt)\n",
        "print(x) "
      ],
      "execution_count": null,
      "outputs": [
        {
          "output_type": "stream",
          "text": [
            "['hell', ' mayur y', 'ur c', 'ntact is 7559217397']\n"
          ],
          "name": "stdout"
        }
      ]
    },
    {
      "cell_type": "markdown",
      "metadata": {
        "id": "aD6jLiCgCtWu",
        "colab_type": "text"
      },
      "source": [
        "#4.SUBN()"
      ]
    },
    {
      "cell_type": "code",
      "metadata": {
        "id": "L-U4QnzGCwjx",
        "colab_type": "code",
        "colab": {
          "base_uri": "https://localhost:8080/",
          "height": 34
        },
        "outputId": "f7ae630c-dfc1-4385-b13e-3efc44afe38d"
      },
      "source": [
        "txt=\"hello mayur your contact is 7559217397\"\n",
        "x=re.subn(\"\\s\",\"6\",txt)  #sub() return the number at end of o/p [means how many times the string is substitute]\n",
        "print(x)"
      ],
      "execution_count": null,
      "outputs": [
        {
          "output_type": "stream",
          "text": [
            "('hello6mayur6your6contact6is67559217397', 5)\n"
          ],
          "name": "stdout"
        }
      ]
    },
    {
      "cell_type": "code",
      "metadata": {
        "id": "pdPlItxhC1r4",
        "colab_type": "code",
        "colab": {}
      },
      "source": [
        ""
      ],
      "execution_count": null,
      "outputs": []
    }
  ]
}