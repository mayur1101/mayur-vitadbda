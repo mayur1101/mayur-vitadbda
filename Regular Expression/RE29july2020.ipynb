{
  "nbformat": 4,
  "nbformat_minor": 0,
  "metadata": {
    "colab": {
      "name": "RE29july2020.ipynb",
      "provenance": [],
      "collapsed_sections": [],
      "include_colab_link": true
    },
    "kernelspec": {
      "name": "python3",
      "display_name": "Python 3"
    }
  },
  "cells": [
    {
      "cell_type": "markdown",
      "metadata": {
        "id": "view-in-github",
        "colab_type": "text"
      },
      "source": [
        "<a href=\"https://colab.research.google.com/github/mayur1101/mayur-vitadbda/blob/python/RE29july2020.ipynb\" target=\"_parent\"><img src=\"https://colab.research.google.com/assets/colab-badge.svg\" alt=\"Open In Colab\"/></a>"
      ]
    },
    {
      "cell_type": "code",
      "metadata": {
        "id": "VH217GywCHnt",
        "colab_type": "code",
        "colab": {}
      },
      "source": [
        "import re"
      ],
      "execution_count": null,
      "outputs": []
    },
    {
      "cell_type": "code",
      "metadata": {
        "id": "Q8gHq3YmCVBU",
        "colab_type": "code",
        "colab": {
          "base_uri": "https://localhost:8080/",
          "height": 54
        },
        "outputId": "0edd937e-c73c-454b-e914-330a0d710d93"
      },
      "source": [
        "import re\n",
        "p=\"\\w\"#pattern\n",
        "i=input(\"Enter data to check:\")\n",
        "if re.search(p,i):\n",
        "  print(\"accepted\")\n",
        "else:\n",
        "  print(\"rejected\")"
      ],
      "execution_count": null,
      "outputs": [
        {
          "output_type": "stream",
          "text": [
            "Enter data to check:*&$^#$^@@%@^%$*&$(*))\n",
            "rejected\n"
          ],
          "name": "stdout"
        }
      ]
    },
    {
      "cell_type": "code",
      "metadata": {
        "id": "kjU9LbykEWK0",
        "colab_type": "code",
        "colab": {
          "base_uri": "https://localhost:8080/",
          "height": 54
        },
        "outputId": "2983db4f-1f9d-4f8d-aad0-b31bed0f17ff"
      },
      "source": [
        "import re\n",
        "p=\"\\s\"#pattern\n",
        "i=input(\"Enter data to check:\")\n",
        "if re.search(p,i):\n",
        "  print(\"accepted\")\n",
        "else:\n",
        "  print(\"rejected\")"
      ],
      "execution_count": null,
      "outputs": [
        {
          "output_type": "stream",
          "text": [
            "Enter data to check:\\n\n",
            "rejected\n"
          ],
          "name": "stdout"
        }
      ]
    },
    {
      "cell_type": "code",
      "metadata": {
        "id": "BXAXpCwgErJE",
        "colab_type": "code",
        "colab": {
          "base_uri": "https://localhost:8080/",
          "height": 35
        },
        "outputId": "ad13ed4a-2e5b-4a4a-b18f-bc48043e8e4e"
      },
      "source": [
        "import re\n",
        "p=r\"\\n\"\n",
        "s=\"line1\\nline2\"\n",
        "data=re.split(p,s)\n",
        "print(data)"
      ],
      "execution_count": null,
      "outputs": [
        {
          "output_type": "stream",
          "text": [
            "['line1\\\\nline2']\n"
          ],
          "name": "stdout"
        }
      ]
    },
    {
      "cell_type": "code",
      "metadata": {
        "id": "rFFgOqSSG7EY",
        "colab_type": "code",
        "colab": {
          "base_uri": "https://localhost:8080/",
          "height": 55
        },
        "outputId": "84bb47ab-12a1-4525-b490-2bb3e9ef5f8f"
      },
      "source": [
        "import re\n",
        "p=\"\\S\"#pattern\n",
        "s=\"this is a test 007 try (*&^%$# this\"\n",
        "dlist=re.findall(p,s)\n",
        "print(dlist)"
      ],
      "execution_count": null,
      "outputs": [
        {
          "output_type": "stream",
          "text": [
            "['t', 'h', 'i', 's', 'i', 's', 'a', 't', 'e', 's', 't', '0', '0', '7', 't', 'r', 'y', '(', '*', '&', '^', '%', '$', '#', 't', 'h', 'i', 's']\n"
          ],
          "name": "stdout"
        }
      ]
    },
    {
      "cell_type": "code",
      "metadata": {
        "id": "veksRHxzH51b",
        "colab_type": "code",
        "colab": {
          "base_uri": "https://localhost:8080/",
          "height": 35
        },
        "outputId": "0f31800d-ec5e-40d5-dbb3-4a3c9c03690a"
      },
      "source": [
        "import re\n",
        "p=r\"\\+\\d{2}-\"#pattern\n",
        "data=\"mail:amartohelp@yahoo.com +91-022-9821601163 mail:amartechno@yahoo.com +91-011-9899887766 mail:champa.chameli@gmail.com +91-033-8899776655\"\n",
        "dlist=re.findall(p,data)\n",
        "print(dlist)"
      ],
      "execution_count": null,
      "outputs": [
        {
          "output_type": "stream",
          "text": [
            "['+91-', '+91-', '+91-']\n"
          ],
          "name": "stdout"
        }
      ]
    },
    {
      "cell_type": "code",
      "metadata": {
        "id": "2x43x8jLK1sg",
        "colab_type": "code",
        "colab": {
          "base_uri": "https://localhost:8080/",
          "height": 55
        },
        "outputId": "0b9b63a5-52bf-40ac-9c07-9b563730d183"
      },
      "source": [
        "import re\n",
        "p=r\"\\w+\"#pattern\n",
        "data=\"mail:amartohelp@yahoo.com +91-022-9821601163 mail:amartechno@yahoo.com +91-011-9899887766 mail:champa.chameli@gmail.com +91-033-8899776655\"\n",
        "dlist=re.findall(p,data)\n",
        "print(dlist)"
      ],
      "execution_count": null,
      "outputs": [
        {
          "output_type": "stream",
          "text": [
            "['mail', 'amartohelp', 'yahoo', 'com', '91', '022', '9821601163', 'mail', 'amartechno', 'yahoo', 'com', '91', '011', '9899887766', 'mail', 'champa', 'chameli', 'gmail', 'com', '91', '033', '8899776655']\n"
          ],
          "name": "stdout"
        }
      ]
    },
    {
      "cell_type": "code",
      "metadata": {
        "id": "LPFle_8XMViT",
        "colab_type": "code",
        "colab": {
          "base_uri": "https://localhost:8080/",
          "height": 35
        },
        "outputId": "ea8fd8eb-0972-4395-ba9d-c9d7f656f0f1"
      },
      "source": [
        "import re\n",
        "p=r\"\\[A-Z]+\"#pattern\n",
        "data=\"MAIL: Amartohelp@yahoo.com +91-022-9821601163 MAIL:amartechno@yahoo.com +91-011-9899887766 MAIL:champa.chameli@gmail.com +91-033-8899776655\"\n",
        "dlist=re.findall(p,data)\n",
        "print(dlist)"
      ],
      "execution_count": null,
      "outputs": [
        {
          "output_type": "stream",
          "text": [
            "[]\n"
          ],
          "name": "stdout"
        }
      ]
    },
    {
      "cell_type": "code",
      "metadata": {
        "id": "T9p-C0ExNTEF",
        "colab_type": "code",
        "colab": {
          "base_uri": "https://localhost:8080/",
          "height": 35
        },
        "outputId": "eb76275d-71df-4fc6-c6c8-5866e4dea26f"
      },
      "source": [
        "import re\n",
        "p=r\"\\w+na\"#pattern\n",
        "data=\"amar amit aman teena meena sheena\"\n",
        "dlist=re.findall(p,data)\n",
        "print(dlist)"
      ],
      "execution_count": null,
      "outputs": [
        {
          "output_type": "stream",
          "text": [
            "['teena', 'meena', 'sheena']\n"
          ],
          "name": "stdout"
        }
      ]
    },
    {
      "cell_type": "code",
      "metadata": {
        "id": "kRyJcJDnOJCB",
        "colab_type": "code",
        "colab": {
          "base_uri": "https://localhost:8080/",
          "height": 35
        },
        "outputId": "57ddddf4-3c89-4df2-fc30-a82aee0133e3"
      },
      "source": [
        "import re\n",
        "p=r\"[A-Z]\\w+\"#pattern\n",
        "data=\"Amar amit Aman teena Meena sheena\"\n",
        "dlist=re.findall(p,data)\n",
        "print(dlist)"
      ],
      "execution_count": null,
      "outputs": [
        {
          "output_type": "stream",
          "text": [
            "['Amar', 'Aman', 'Meena']\n"
          ],
          "name": "stdout"
        }
      ]
    },
    {
      "cell_type": "code",
      "metadata": {
        "id": "g-wCXyt-PI06",
        "colab_type": "code",
        "colab": {
          "base_uri": "https://localhost:8080/",
          "height": 54
        },
        "outputId": "30db1666-87dc-42a6-d775-6943ddc2024c"
      },
      "source": [
        "import re\n",
        "p=\"(male|femal)\"#pattern\n",
        "i=input(\"Enter data to check:\")\n",
        "if re.search(p,i):\n",
        "  print(\"accepted\")\n",
        "else:\n",
        "  print(\"rejected\")"
      ],
      "execution_count": null,
      "outputs": [
        {
          "output_type": "stream",
          "text": [
            "Enter data to check:MALE\n",
            "rejected\n"
          ],
          "name": "stdout"
        }
      ]
    },
    {
      "cell_type": "code",
      "metadata": {
        "id": "-TsclSt5PkD5",
        "colab_type": "code",
        "colab": {
          "base_uri": "https://localhost:8080/",
          "height": 55
        },
        "outputId": "32f1b4f5-5654-4c0f-f8b4-bf0427bb597a"
      },
      "source": [
        "import re\n",
        "log='''192.168.198.92 - - [22/Dec/2002:23:08:37 -0400] \"GET \n",
        "   / HTTP/1.1\" 200 6394 www.yahoo.com \n",
        "   \"-\" \"Mozilla/4.0 (compatible; MSIE 6.0; Windows NT 5.1...)\" \"-\"\n",
        "192.168.198.92 - - [22/Dec/2002:23:08:38 -0400] \"GET \n",
        "   /images/logo.gif HTTP/1.1\" 200 807 www.yahoo.com \n",
        "   \"http://www.some.in/\" \"Mozilla/4.0 (compatible; MSIE 6...)\" \"-\"\n",
        "192.168.72.177 - - [22/Dec/2002:23:32:14 -0400] \"GET \n",
        "   /news/sports.html HTTP/1.1\" 200 3500 www.yahoo.com \n",
        "   \"http://www.some.in/\" \"Mozilla/4.0 (compatible; MSIE ...)\" \"-\"\n",
        "192.168.72.177 - - [22/Dec/2002:23:32:14 -0400] \"GET \n",
        "   /favicon.ico HTTP/1.1\" 404 1997 www.yahoo.com \n",
        "   \"-\" \"Mozilla/5.0 (Windows; U; Windows NT 5.1; rv:1.7.3)...\" \"-\"\n",
        "192.168.72.177 - - [22/Dec/2002:23:32:15 -0400] \"GET \n",
        "   /style.css HTTP/1.1\" 200 4138 www.yahoo.com \n",
        "   \"http://www.yahoo.com/index.html\" \"Mozilla/5.0 (Windows...\" \"-\"\n",
        "192.168.72.177 - - [22/Dec/2002:23:32:16 -0400] \"GET \n",
        "   /js/ads.js HTTP/1.1\" 200 10229 www.yahoo.com \n",
        "   \"http://www.search.com/index.html\" \"Mozilla/5.0 (Windows...\" \"-\"\n",
        "192.168.72.177 - - [22/Dec/2002:23:32:19 -0400] \"GET \n",
        "   /search.php HTTP/1.1\" 400 1997 www.yahoo.com \n",
        "   \"-\" \"Mozilla/4.0 (compatible; MSIE 6.0; Windows NT 5.1; ...)\" \"-\"'''\n",
        "pip=r\"\\d{1,3}\\.\\d{1,3}\\.\\d{1,3}\\.\\d{1,3}\"\n",
        "pdate=r\"\\d{2}\\/\\w{3}\\/\\d{4}\"\n",
        "ptime=r\"\\d{2}\\:\\d{2}\\:\\d{2}\"\n",
        "pweb=r\"www\\.\\w+\\.\\w+\"\n",
        "\n",
        "datalist=re.findall(pweb,log)\n",
        "print(datalist)"
      ],
      "execution_count": null,
      "outputs": [
        {
          "output_type": "stream",
          "text": [
            "['www.yahoo.com', 'www.yahoo.com', 'www.some.uk', 'www.yahoo.com', 'www.some.in', 'www.yahoo.com', 'www.yahoo.com', 'www.yahoo.com', 'www.yahoo.com', 'www.search.com', 'www.yahoo.com']\n"
          ],
          "name": "stdout"
        }
      ]
    },
    {
      "cell_type": "code",
      "metadata": {
        "id": "l_4BU2KcW5kW",
        "colab_type": "code",
        "colab": {
          "base_uri": "https://localhost:8080/",
          "height": 54
        },
        "outputId": "5f1fa716-e7b6-4122-d4cb-7182dfdc61c9"
      },
      "source": [
        "#email\n",
        "p1=r\"[a-zA-Z0-9]\\@\\w+\\.\\w{2,3}\"\n",
        "p2=\"\\w+\\@\\w+\\.\\w+\"\n",
        "p3=\"(\\W|\\w)\\@\\w+\\.\\w+\"\n",
        "\n",
        "i=input(\"Enter data to check:\")\n",
        "if re.search(p3,i):\n",
        "  print(\"yes\")\n",
        "else:\n",
        "  print(\"no\")"
      ],
      "execution_count": null,
      "outputs": [
        {
          "output_type": "stream",
          "text": [
            "Enter data to check:amam_er@asd\n",
            "no\n"
          ],
          "name": "stdout"
        }
      ]
    },
    {
      "cell_type": "code",
      "metadata": {
        "id": "uaoSf16Zan3t",
        "colab_type": "code",
        "colab": {
          "base_uri": "https://localhost:8080/",
          "height": 54
        },
        "outputId": "fb870abc-7768-46d2-9ebb-1fc404f05edc"
      },
      "source": [
        "\n",
        "p1=r\"^\\d+\"\n",
        "p2=\"\\.$\"\n",
        "#for check p=\"(\\W|\\w)\\@\\w+\\.\\w+\"\n",
        "\n",
        "i=input(\"Enter data to check:\")\n",
        "if re.search(p1,i) and re.search(p2,i) :\n",
        "  print(\"yes\")\n",
        "else:\n",
        "  print(\"no\")"
      ],
      "execution_count": null,
      "outputs": [
        {
          "output_type": "stream",
          "text": [
            "Enter data to check:123 go .\n",
            "yes\n"
          ],
          "name": "stdout"
        }
      ]
    },
    {
      "cell_type": "code",
      "metadata": {
        "id": "qBa26r8mat88",
        "colab_type": "code",
        "colab": {}
      },
      "source": [
        ""
      ],
      "execution_count": null,
      "outputs": []
    }
  ]
}